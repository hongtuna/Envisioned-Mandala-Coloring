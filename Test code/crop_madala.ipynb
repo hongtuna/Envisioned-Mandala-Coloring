{
 "cells": [
  {
   "cell_type": "code",
   "execution_count": null,
   "metadata": {
    "id": "7Sf-oXj-45sx"
   },
   "outputs": [],
   "source": [
    "import os\n",
    "import cv2\n",
    "import numpy as np"
   ]
  },
  {
   "cell_type": "code",
   "execution_count": null,
   "metadata": {
    "id": "2T5FVvf4-ApB"
   },
   "outputs": [],
   "source": [
    "def crop_mandala(files, n, margin):\n",
    "    save_path = '/content/drive/Shareddrives/홍이김/data/preprocessed/cir_layer/'\n",
    "    for f in files:\n",
    "      try:\n",
    "        # load image\n",
    "        img = cv2.imread(f) \n",
    "        gray = cv2.cvtColor(img, cv2.COLOR_BGR2GRAY) # convert to grayscale\n",
    "        th = cv2.adaptiveThreshold(gray,255,cv2.ADAPTIVE_THRESH_GAUSSIAN_C,cv2.THRESH_BINARY,11,2)\n",
    "\n",
    "        # find where the signature is and make a cropped region\n",
    "        points = np.argwhere(th==0) # find where the black pixels are\n",
    "        points = np.fliplr(points) # store them in x,y coordinates instead of row,col indices\n",
    "        x, y, w, h = cv2.boundingRect(points) # create a rectangle around those points\n",
    "        crop = gray[y:y+h, x:x+w] # create a cropped region of the gray image\n",
    "\n",
    "        resized = cv2.resize(crop, dsize=(n-margin,n-margin),interpolation=cv2.INTER_AREA)\n",
    "        \n",
    "        # make margin\n",
    "        result = np.ones((n,n), dtype=np.uint8)*255\n",
    "        bg_h, bg_w= result.shape\n",
    "        md_h, md_w= resized.shape\n",
    "        x, y = (bg_h-md_h)//2, (bg_w-md_h)//2\n",
    "        result[x:x+md_h, y:y+md_w] = resized\n",
    "\n",
    "        # save file\n",
    "        filename = os.path.basename(f).split('.')[0]+'.jpg'\n",
    "        cv2.imwrite(save_path+filename,result)\n",
    "\n",
    "      except :\n",
    "        print(f)\n",
    "        continue\n"
   ]
  },
  {
   "cell_type": "code",
   "execution_count": null,
   "metadata": {
    "colab": {
     "base_uri": "https://localhost:8080/"
    },
    "executionInfo": {
     "elapsed": 4758,
     "status": "ok",
     "timestamp": 1617094401135,
     "user": {
      "displayName": "­김은서 | 서울 인공지능융합학과",
      "photoUrl": "",
      "userId": "01194723457002626227"
     },
     "user_tz": -540
    },
    "id": "9O-DTw9h5FA9",
    "outputId": "cfc7a6fe-4ad3-45bc-8c1b-94fb3426ce1f"
   },
   "outputs": [
    {
     "name": "stdout",
     "output_type": "stream",
     "text": [
      "/content/drive/Shareddrives/홍이김/data/cir_layer/eb32b91a68fc72108b9845136cbc28f8.gif\n",
      "/content/drive/Shareddrives/홍이김/data/cir_layer/393.jpg\n"
     ]
    }
   ],
   "source": [
    "def main():\n",
    "    path = \"/content/drive/Shareddrives/홍이김/data/cir_layer\"\n",
    "    files = [os.path.join(path,f) for f in os.listdir(path) if not f in ('.DS_Store','.ipynb_checkpoints')]\n",
    "    crop_mandala(files, n=512, margin=10)\n",
    "\n",
    "main()"
   ]
  }
 ],
 "metadata": {
  "colab": {
   "authorship_tag": "ABX9TyNifnBw3PWpsLIgahDKDGJW",
   "collapsed_sections": [],
   "mount_file_id": "1ABMrZYQs11_8Hxmo6B1LNRc1xpIGF1Gc",
   "name": "crop_madala.ipynb",
   "provenance": []
  },
  "kernelspec": {
   "display_name": "Python 3",
   "language": "python",
   "name": "python3"
  },
  "language_info": {
   "codemirror_mode": {
    "name": "ipython",
    "version": 3
   },
   "file_extension": ".py",
   "mimetype": "text/x-python",
   "name": "python",
   "nbconvert_exporter": "python",
   "pygments_lexer": "ipython3",
   "version": "3.8.8"
  }
 },
 "nbformat": 4,
 "nbformat_minor": 1
}
