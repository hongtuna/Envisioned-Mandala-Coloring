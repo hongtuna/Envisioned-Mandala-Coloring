{
 "cells": [
  {
   "cell_type": "code",
   "execution_count": 1,
   "id": "81586510",
   "metadata": {},
   "outputs": [],
   "source": [
    "from sklearn.cluster import KMeans\n",
    "import matplotlib.pyplot as plt\n",
    "import argparse\n",
    "# import utils\n",
    "import cv2\n",
    "import numpy as np\n",
    "from collections import Counter\n",
    "import colorsys\n",
    "from PIL import ImageEnhance\n",
    "from PIL import Image\n",
    "%matplotlib inline"
   ]
  },
  {
   "cell_type": "code",
   "execution_count": 2,
   "id": "4ffaa7e3",
   "metadata": {},
   "outputs": [],
   "source": [
    "def quantization(image,n_clusters):\n",
    "    w, h, _ = image.shape\n",
    "    print('cluster_to_',n_clusters)\n",
    "    image = image.reshape((image.shape[0] * image.shape[1], 3))\n",
    "    clt = KMeans(n_clusters = n_clusters)\n",
    "    clt = clt.fit(image)\n",
    "    center = clt.cluster_centers_.astype(\"uint8\")\n",
    "   \n",
    "    img = center[clt.labels_]    \n",
    "    img = img.reshape((w, h, 3)).astype(\"uint8\")\n",
    "    #img[np.where((edge_image==(0,0,0)).all(axis=-1))] = (0,0,0) \n",
    "    return clt,img\n",
    "\n",
    "def centroid_histogram(clt):\n",
    "    numLabels = np.arange(0, len(np.unique(clt.labels_)) + 1)\n",
    "    (hist, _) = np.histogram(clt.labels_, bins = numLabels)\n",
    "    hist = hist.astype(\"float\")\n",
    "    hist /= hist.sum()\n",
    "    return hist\n",
    "\n",
    "def color_clustering(hist, centroids,n_clusters):\n",
    "    centroids = centroids.astype(\"uint8\").tolist() \n",
    "    colorDic = {p : c for p, c in zip(hist, centroids)} #{\"사용비율 : 색깔\"}\n",
    "    colorDic = sorted(colorDic.items(), key=lambda x:x[0], reverse=True)\n",
    "   \n",
    "    #flag = np.empty((1,n_clusters,3), dtype=np.uint8) \n",
    "    i = 0\n",
    "    per=[]\n",
    "    hsv =[]\n",
    "    for (percent, color) in colorDic: \n",
    "        a = colorsys.rgb_to_hsv(color[0],color[1],color[2]) #hsv로 저장   \n",
    "        hsv.append(list(a))\n",
    "        per.append(round(percent,2)) \n",
    "        #flag[0,i,:] = color\n",
    "        i+=1   \n",
    "       \n",
    "    return per,hsv #사용비율, hsv\n",
    "\n",
    "\n",
    "def colorextract(img):\n",
    "    sample = cv2.imread(img)\n",
    "    sample = cv2.cvtColor(sample, cv2.COLOR_BGR2RGB)\n",
    "    sample = cv2.resize(sample, dsize=(512, 512), interpolation=cv2.INTER_AREA)\n",
    "    sample[np.where((sample>=(230,230,230)).all(axis=-1))] = (255,255,255) \n",
    "    \n",
    "    #채도 조정\n",
    "    hsv = cv2.cvtColor(sample,cv2.COLOR_BGR2HSV)\n",
    "    hsv = np.array(hsv, dtype = np.float64)\n",
    "    hsv[:,:,1] = hsv[:,:,1]*1.2\n",
    "    hsv[:,:,1][hsv[:,:,1]>255]  = 255\n",
    "   \n",
    "    hsv = np.array(hsv, dtype = np.uint8)\n",
    "    image=cv2.cvtColor(hsv,cv2.COLOR_HSV2BGR)\n",
    "    \n",
    "    out = np.ones_like(image) *255\n",
    "    mask = np.ones((512,512), dtype='uint8') * 0\n",
    "    cv2.circle(mask, (256, 256), 255, 3, -1)\n",
    "    cv2.grabCut(image ,mask,None,None,None,3,cv2.GC_INIT_WITH_MASK)\n",
    "    out[np.where((mask==3))] = image[np.where((mask==3))]\n",
    "  \n",
    "    cv2.imwrite('out.jpg', cv2.cvtColor(out,cv2.COLOR_BGR2RGB))\n",
    "   \n",
    "    \n",
    "    #대비 높임\n",
    "#     lab = cv2.cvtColor(image, cv2.COLOR_BGR2LAB) \n",
    "#     l, a, b = cv2.split(lab) \n",
    "#     clahe = cv2.createCLAHE(clipLimit=7.0, tileGridSize=(8, 8)) \n",
    "#     cl = clahe.apply(l) \n",
    "#     limg = cv2.merge((cl, a, b)) \n",
    "#     image = cv2.cvtColor(limg, cv2.COLOR_LAB2BGR)\n",
    "    \n",
    "    #만다라부분 crop -> 흰배경에 붙임\n",
    "   \n",
    "    \n",
    "    CLUSTER = 10\n",
    "    clt,final = quantization(out, CLUSTER)\n",
    "    hist = centroid_histogram(clt)\n",
    "    hist = hist.astype(\"float\")\n",
    "\n",
    "    per,hsv = color_clustering(hist, clt.cluster_centers_,CLUSTER) #많이 쓰인 순서대로 나옴\n",
    "    hsvlist = list(zip(per, hsv))\n",
    "    hsvlist=sorted(hsvlist, key = lambda x: (x[0]),reverse=True) #채도 명도 곱한거 기준으로 내림차순, 혹시 같은 값이면 칠해진 부분이 많은 순서 #x[1][2]*x[1][1]\n",
    "\n",
    "    rgblist=[]\n",
    "    graylist = []\n",
    "    for per,color in hsvlist:\n",
    "        if (color[1]<0.13 and color[2]<=150) or (color[1]<0.1 and color[2]>=250):\n",
    "            print('g',color,per)\n",
    "            g = colorsys.hsv_to_rgb(color[0],color[1],color[2])\n",
    "            g = list(g)\n",
    "            graylist.append(g)\n",
    "            \n",
    "        else:\n",
    "            a = colorsys.hsv_to_rgb(color[0],color[1],color[2])\n",
    "            a = list(a)\n",
    "            print('a',color,per)\n",
    "            rgblist.append(a)\n",
    "                    \n",
    "    return rgblist, graylist\n",
    "\n",
    "def show(colors):\n",
    "    clist = colors\n",
    "    flag = np.empty((1,17,3), dtype=np.uint8) \n",
    "    i = 0\n",
    "    if len(clist)<17:\n",
    "        clist[len(clist):17]=[[255,255,255]]*(17-len(clist))\n",
    "    for rgb in clist:\n",
    "        flag[0,i,:] = rgb\n",
    "        i+=1\n",
    "    plt.axis(\"off\")\n",
    "    plt.imshow(flag)"
   ]
  },
  {
   "cell_type": "raw",
   "id": "35995c12",
   "metadata": {
    "jupyter": {
     "outputs_hidden": true
    }
   },
   "source": [
    "#회색 거름\n",
    "if (color[1]<0.13 and color[2]<=150) or (color[1]<0.1 and color[2]>=250):\n",
    "    print('g',color,per)\n",
    "    g = colorsys.hsv_to_rgb(color[0],color[1],color[2])\n",
    "    g = list(g)\n",
    "    graylist.append(g)\n",
    "\n"
   ]
  },
  {
   "cell_type": "code",
   "execution_count": 3,
   "id": "b946cb41",
   "metadata": {},
   "outputs": [
    {
     "name": "stdout",
     "output_type": "stream",
     "text": [
      "cluster_to_ 10\n",
      "g [0.0, 0.0, 254] 0.76\n",
      "a [0.6379310344827586, 0.12831858407079647, 226] 0.04\n",
      "g [0.9, 0.07246376811594203, 69] 0.04\n",
      "g [0.641025641025641, 0.12380952380952381, 105] 0.04\n",
      "a [0.8333333333333334, 0.14130434782608695, 184] 0.03\n",
      "a [0.2111111111111111, 0.2054794520547945, 146] 0.03\n",
      "a [0.1638888888888889, 0.2727272727272727, 220] 0.02\n",
      "a [0.5981182795698925, 0.5767441860465117, 215] 0.01\n",
      "a [0.08589743589743588, 0.6018518518518519, 216] 0.01\n",
      "a [0.008771929824561412, 0.7150537634408602, 186] 0.01\n"
     ]
    }
   ],
   "source": [
    "clist,glist = colorextract('./coloring_result/OKT_0.jpg') "
   ]
  },
  {
   "cell_type": "code",
   "execution_count": 4,
   "id": "10aec125",
   "metadata": {},
   "outputs": [
    {
     "data": {
      "text/plain": [
       "[[197.0, 202.0, 226],\n",
       " [184, 158.0, 184.0],\n",
       " [138.0, 146, 116.00000000000001],\n",
       " [220, 219.0, 160.0],\n",
       " [90.99999999999999, 141.99999999999997, 215],\n",
       " [216, 152.99999999999997, 86.0],\n",
       " [186, 60.00000000000001, 52.99999999999999]]"
      ]
     },
     "execution_count": 4,
     "metadata": {},
     "output_type": "execute_result"
    }
   ],
   "source": [
    "clist"
   ]
  },
  {
   "cell_type": "code",
   "execution_count": 5,
   "id": "4b78c69e",
   "metadata": {},
   "outputs": [
    {
     "data": {
      "image/png": "[encoded data removed]",
      "text/plain": [
       "<Figure size 432x288 with 1 Axes>"
      ]
     },
     "metadata": {
      "needs_background": "light"
     },
     "output_type": "display_data"
    }
   ],
   "source": [
    "show(clist)"
   ]
  },
  {
   "cell_type": "code",
   "execution_count": 6,
   "id": "67b9fee5",
   "metadata": {},
   "outputs": [
    {
     "data": {
      "image/png": "[encoded data removed]",
      "text/plain": [
       "<Figure size 432x288 with 1 Axes>"
      ]
     },
     "metadata": {
      "needs_background": "light"
     },
     "output_type": "display_data"
    }
   ],
   "source": [
    "show(glist)"
   ]
  },
  {
   "cell_type": "code",
   "execution_count": 24,
   "id": "34717d7b",
   "metadata": {},
   "outputs": [],
   "source": [
    "def brightness(img, val):\n",
    "    value = val\n",
    "    hsv = cv2.cvtColor(img, cv2.COLOR_BGR2HSV)\n",
    "    hsv = np.array(hsv, dtype = np.float64)\n",
    "    hsv[:,:,1] = hsv[:,:,1]*value\n",
    "    hsv[:,:,1][hsv[:,:,1]>255]  = 255\n",
    "    hsv[:,:,2] = hsv[:,:,2]*value \n",
    "    hsv[:,:,2][hsv[:,:,2]>255]  = 255\n",
    "    hsv = np.array(hsv, dtype = np.uint8)\n",
    "    img = cv2.cvtColor(hsv, cv2.COLOR_HSV2BGR)\n",
    "    return img"
   ]
  },
  {
   "cell_type": "code",
   "execution_count": 25,
   "id": "594e81fb",
   "metadata": {},
   "outputs": [],
   "source": [
    "img = cv2.imread('pink.jpg')\n",
    "img = brightness(img, 1.2)\n",
    "cv2.imshow('Result', img)\n",
    "cv2.waitKey(0)\n",
    "cv2.destroyAllWindows()"
   ]
  },
  {
   "cell_type": "code",
   "execution_count": null,
   "id": "e34a423a",
   "metadata": {},
   "outputs": [],
   "source": []
  }
 ],
 "metadata": {
  "kernelspec": {
   "display_name": "hai",
   "language": "python",
   "name": "hai"
  },
  "language_info": {
   "codemirror_mode": {
    "name": "ipython",
    "version": 3
   },
   "file_extension": ".py",
   "mimetype": "text/x-python",
   "name": "python",
   "nbconvert_exporter": "python",
   "pygments_lexer": "ipython3",
   "version": "3.7.10"
  }
 },
 "nbformat": 4,
 "nbformat_minor": 5
}
